{
 "cells": [
  {
   "cell_type": "code",
   "execution_count": 1,
   "metadata": {},
   "outputs": [],
   "source": [
    "%matplotlib inline\n",
    "import torch\n",
    "import torch.nn as nn\n",
    "import torch.nn.functional as F\n",
    "import numpy as np\n",
    "import gym\n",
    "import matplotlib.pyplot as plt"
   ]
  },
  {
   "cell_type": "code",
   "execution_count": 2,
   "metadata": {},
   "outputs": [],
   "source": [
    "seed = 161\n",
    "# random.seed(seed)\n",
    "torch.manual_seed(seed)\n",
    "np.random.seed(seed)\n",
    "# os.environ['PYTHONHASHSEED'] = str(seed)"
   ]
  },
  {
   "cell_type": "code",
   "execution_count": 3,
   "metadata": {},
   "outputs": [],
   "source": [
    "env = gym.make('CartPole-v0')\n",
    "# env = env.unwrapped\n",
    "env.seed(seed);"
   ]
  },
  {
   "cell_type": "code",
   "execution_count": 4,
   "metadata": {},
   "outputs": [],
   "source": [
    "N_ACTIONS   = env.action_space.n\n",
    "N_STATES    = env.observation_space.shape[0]\n",
    "ENV_A_SHAPE = 0 if isinstance(env.action_space.sample(), int) else env.action_space.sample().shape     # to confirm the shape"
   ]
  },
  {
   "cell_type": "code",
   "execution_count": 5,
   "metadata": {},
   "outputs": [],
   "source": [
    "def discretize(c_pos_val, c_vel_val, p_ang_val, p_vel_val, c_pos_s, c_vel_s, p_ang_s, p_vel_s):\n",
    "    c_pos_indx = np.where(c_pos_s >= c_pos_val)[0][0].astype(int)\n",
    "    c_vel_indx = np.where(c_vel_s >= c_vel_val)[0][0].astype(int)\n",
    "    p_ang_indx = np.where(p_ang_s >= p_ang_val)[0][0].astype(int)\n",
    "    p_vel_indx = np.where(p_vel_s >= p_vel_val)[0][0].astype(int)\n",
    "    return [c_pos_indx, c_vel_indx, p_ang_indx, p_vel_indx]"
   ]
  },
  {
   "cell_type": "code",
   "execution_count": 6,
   "metadata": {},
   "outputs": [],
   "source": [
    "NO_OF_EPISODES = 1000"
   ]
  },
  {
   "cell_type": "code",
   "execution_count": 7,
   "metadata": {},
   "outputs": [],
   "source": [
    "QUANTIZATION_LEVEL = 40"
   ]
  },
  {
   "cell_type": "code",
   "execution_count": 8,
   "metadata": {},
   "outputs": [],
   "source": [
    "Q_TABLE = np.zeros((QUANTIZATION_LEVEL,\n",
    "                    QUANTIZATION_LEVEL,\n",
    "                    QUANTIZATION_LEVEL,\n",
    "                    QUANTIZATION_LEVEL, \n",
    "                    N_ACTIONS))"
   ]
  },
  {
   "cell_type": "code",
   "execution_count": 9,
   "metadata": {},
   "outputs": [],
   "source": [
    "# S_FILENAME = 'cartpole_limited'\n",
    "# M_FILENAME = S_FILENAME+'_Q_TABLE_'+str(QUANTIZATION_LEVEL)+'.npy'\n",
    "# Q_TABLE = np.load(M_FILENAME)"
   ]
  },
  {
   "cell_type": "code",
   "execution_count": 10,
   "metadata": {},
   "outputs": [],
   "source": [
    "c_pos_s = np.linspace(-5, 5, QUANTIZATION_LEVEL)\n",
    "c_vel_s = np.linspace(-5, 5, QUANTIZATION_LEVEL)\n",
    "p_ang_s = np.linspace(-1, 1, QUANTIZATION_LEVEL)\n",
    "p_vel_s = np.linspace(-5, 5, QUANTIZATION_LEVEL)"
   ]
  },
  {
   "cell_type": "code",
   "execution_count": 11,
   "metadata": {},
   "outputs": [],
   "source": [
    "LR = 1e-1\n",
    "GAMMA = 0.9\n",
    "NO_OF_EPISODES = 10000000\n",
    "EPSILON = 0.9"
   ]
  },
  {
   "cell_type": "code",
   "execution_count": null,
   "metadata": {},
   "outputs": [],
   "source": [
    "#TRAINING\n",
    "time_rec = []\n",
    "for i_episode in range(NO_OF_EPISODES):\n",
    "    time_steps = 0\n",
    "    s = env.reset()\n",
    "    while True:\n",
    "#         env.render()\n",
    "        [c_pos_state, \n",
    "        c_vel_state, \n",
    "        p_ang_state, \n",
    "        p_vel_state] = discretize(s[0],s[1],s[2],s[3],\n",
    "                                 c_pos_s, \n",
    "                                 c_vel_s, \n",
    "                                 p_ang_s, \n",
    "                                 p_vel_s)\n",
    "        \n",
    "        time_steps += 1\n",
    "        if np.random.uniform() > EPSILON:   # greedy\n",
    "            a = np.random.randint(0, N_ACTIONS)\n",
    "        else:\n",
    "            a = Q_TABLE[c_pos_state, c_vel_state, p_ang_state, p_vel_state, :].argmax()\n",
    "\n",
    "         # take action\n",
    "        s_, r, done, info = env.step(a)\n",
    "        \n",
    "        #discretize next_state\n",
    "        [next_c_pos_state, \n",
    "        next_c_vel_state, \n",
    "        next_p_ang_state, \n",
    "        next_p_vel_state] = discretize(s_[0],    s_[1],    s_[2],    s_[3],\n",
    "                                      c_pos_s,  c_vel_s,  p_ang_s,  p_vel_s)\n",
    "        \n",
    "        # learn\n",
    "        this_state = tuple([c_pos_state, \n",
    "                      c_vel_state, \n",
    "                      p_ang_state, \n",
    "                      p_vel_state])\n",
    "        \n",
    "        next_state = tuple([ next_c_pos_state, \n",
    "                       next_c_vel_state, \n",
    "                       next_p_ang_state, \n",
    "                       next_p_vel_state])\n",
    "        \n",
    "        Q_TABLE[this_state][a] = Q_TABLE[this_state][a] + LR * (r + GAMMA * Q_TABLE[next_state].max() - \n",
    "                                                                 Q_TABLE[this_state][a])\n",
    "        if done:\n",
    "            time_rec = np.append(time_rec, time_steps)\n",
    "            break\n",
    "        s = s_\n",
    "env.close()\n",
    "\n",
    "fig = plt.figure(figsize = (15,3))\n",
    "\n",
    "ax2 = fig.add_subplot(1, 1, 1)\n",
    "data = time_rec\n",
    "ax2.set_title(\"QUANTIZATION: \"+str(QUANTIZATION_LEVEL))\n",
    "ax2.plot(data, color = 'g')\n",
    "# ax2.plot(np.ones_like(data)*200, 'g--')\n",
    "\n",
    "ax2.set_ylabel('Time Steps',color = 'g')\n",
    "# ax2.set_ylim([1,2.5e2])\n",
    "fig.tight_layout()\n",
    "ax2.grid()\n",
    "plt.show()"
   ]
  },
  {
   "cell_type": "code",
   "execution_count": null,
   "metadata": {},
   "outputs": [],
   "source": [
    "#TESTING\n",
    "time_rec = []\n",
    "# S_FILENAME = 'cartpole_limited'\n",
    "# M_FILENAME = S_FILENAME +'_Q_TABLE_'+str(QUANTIZATION_LEVEL)+'.npy'\n",
    "# Q_TABLE = np.load(M_FILENAME)\n",
    "\n",
    "\n",
    "for i_episode in range(NO_OF_EPISODES):\n",
    "\n",
    "    time_steps = 0\n",
    "    s = env.reset()\n",
    "    while True:\n",
    "#         env.render()\n",
    "\n",
    "        [c_pos_state, \n",
    "        c_vel_state, \n",
    "        p_ang_state, \n",
    "        p_vel_state] = discretize(s[0],    s[1],    s[2],    s[3],\n",
    "                                 c_pos_s, c_vel_s, p_ang_s, p_vel_s)\n",
    "\n",
    "        time_steps += 1\n",
    "        a = Q_TABLE[c_pos_state, c_vel_state, p_ang_state, p_vel_state, :].argmax()\n",
    "\n",
    "        # take action\n",
    "        s_, r, done, info = env.step(a)\n",
    "        \n",
    "        \n",
    "\n",
    "        if done:\n",
    "            time_rec = np.append(time_rec, time_steps)\n",
    "\n",
    "            break\n",
    "        s = s_\n",
    "env.close()\n",
    "fig = plt.figure(figsize = (15,3))\n",
    "\n",
    "ax2 = fig.add_subplot(1, 1, 1)\n",
    "data = time_rec\n",
    "ax2.set_title(\"QUANTIZATION: \"+str(QUANTIZATION_LEVEL))\n",
    "ax2.plot(data, color = 'g')\n",
    "# ax2.plot(np.ones_like(data)*200, 'g--')\n",
    "\n",
    "ax2.set_ylabel('Time Steps',color = 'g')\n",
    "# ax2.set_ylim([1,2.5e2])\n",
    "fig.tight_layout()\n",
    "ax2.grid()\n",
    "plt.show()"
   ]
  },
  {
   "cell_type": "code",
   "execution_count": null,
   "metadata": {},
   "outputs": [],
   "source": []
  }
 ],
 "metadata": {
  "kernelspec": {
   "display_name": "Python 3",
   "language": "python",
   "name": "python3"
  },
  "language_info": {
   "codemirror_mode": {
    "name": "ipython",
    "version": 3
   },
   "file_extension": ".py",
   "mimetype": "text/x-python",
   "name": "python",
   "nbconvert_exporter": "python",
   "pygments_lexer": "ipython3",
   "version": "3.6.3"
  }
 },
 "nbformat": 4,
 "nbformat_minor": 2
}
