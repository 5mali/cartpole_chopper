{
 "cells": [
  {
   "cell_type": "code",
   "execution_count": 1,
   "metadata": {},
   "outputs": [
    {
     "name": "stderr",
     "output_type": "stream",
     "text": [
      "2019-03-20 21:18:26,411\tWARNING worker.py:1381 -- WARNING: Not updating worker name since `setproctitle` is not installed. Install this with `pip install setproctitle` (or ray[debug]) to enable monitoring of worker processes.\n",
      "2019-03-20 21:18:26,417\tINFO node.py:439 -- Process STDOUT and STDERR is being redirected to /tmp/ray/session_2019-03-20_21-18-26_4444/logs.\n",
      "2019-03-20 21:18:26,541\tINFO services.py:364 -- Waiting for redis server at 127.0.0.1:44580 to respond...\n",
      "2019-03-20 21:18:26,697\tINFO services.py:364 -- Waiting for redis server at 127.0.0.1:14295 to respond...\n",
      "2019-03-20 21:18:26,700\tINFO services.py:761 -- Starting Redis shard with 10.0 GB max memory.\n",
      "2019-03-20 21:18:26,753\tWARNING services.py:1301 -- Warning: Capping object memory store to 20.0GB. To increase this further, specify `object_store_memory` when calling ray.init() or ray start.\n",
      "2019-03-20 21:18:26,755\tINFO services.py:1449 -- Starting the Plasma object store with 20.0 GB memory using /dev/shm.\n"
     ]
    }
   ],
   "source": [
    "%matplotlib inline\n",
    "import torch\n",
    "import torch.nn as nn\n",
    "import torch.nn.functional as F\n",
    "import numpy as np\n",
    "import gym\n",
    "import matplotlib.pyplot as plt\n",
    "import os\n",
    "from datetime import datetime\n",
    "import random\n",
    "import string\n",
    "import ray\n",
    "ray.init();"
   ]
  },
  {
   "cell_type": "code",
   "execution_count": 2,
   "metadata": {},
   "outputs": [],
   "source": [
    "seed = 161\n",
    "random.seed(seed)\n",
    "torch.manual_seed(seed)\n",
    "np.random.seed(seed)\n",
    "# os.environ['PYTHONHASHSEED'] = str(seed)\n",
    "\n",
    "env = gym.make('CartPole-v0')\n",
    "env.seed(seed);\n",
    "\n",
    "N_ACTIONS   = env.action_space.n\n",
    "N_STATES    = env.observation_space.shape[0]\n",
    "ENV_A_SHAPE = 0 if isinstance(env.action_space.sample(), int) else env.action_space.sample().shape     # to confirm the shape"
   ]
  },
  {
   "cell_type": "code",
   "execution_count": 3,
   "metadata": {},
   "outputs": [],
   "source": [
    "C_POS_MAX =  5\n",
    "C_POS_MIN = -5\n",
    "\n",
    "C_VEL_MAX =  5\n",
    "C_VEL_MIN = -5\n",
    "\n",
    "P_ANG_MAX =  1\n",
    "P_ANG_MIN = -1\n",
    "\n",
    "P_VEL_MAX =  5\n",
    "P_VEL_MIN = -5"
   ]
  },
  {
   "cell_type": "code",
   "execution_count": 4,
   "metadata": {},
   "outputs": [
    {
     "name": "stdout",
     "output_type": "stream",
     "text": [
      "GRANULARITY:  100\n"
     ]
    }
   ],
   "source": [
    "GRANULARITY = 100\n",
    "print(\"GRANULARITY: \", GRANULARITY)"
   ]
  },
  {
   "cell_type": "code",
   "execution_count": 5,
   "metadata": {},
   "outputs": [],
   "source": [
    "Q_TABLE = np.zeros((GRANULARITY,\n",
    "                    GRANULARITY,\n",
    "                    GRANULARITY,\n",
    "                    GRANULARITY, \n",
    "                    N_ACTIONS))\n",
    "\n",
    "c_pos_s = np.linspace(C_POS_MIN, C_POS_MAX, GRANULARITY)\n",
    "c_vel_s = np.linspace(C_VEL_MIN, C_VEL_MAX, GRANULARITY)\n",
    "p_ang_s = np.linspace(P_ANG_MIN, P_ANG_MAX, GRANULARITY)\n",
    "p_vel_s = np.linspace(P_VEL_MIN, P_VEL_MAX, GRANULARITY)"
   ]
  },
  {
   "cell_type": "code",
   "execution_count": 6,
   "metadata": {},
   "outputs": [],
   "source": [
    "def discretize(c_pos_val, c_vel_val, p_ang_val, p_vel_val, c_pos_s, c_vel_s, p_ang_s, p_vel_s):\n",
    "    c_pos_indx = np.where(c_pos_s >= c_pos_val)[0][0].astype(int)\n",
    "    c_vel_indx = np.where(c_vel_s >= c_vel_val)[0][0].astype(int)\n",
    "    p_ang_indx = np.where(p_ang_s >= p_ang_val)[0][0].astype(int)\n",
    "    p_vel_indx = np.where(p_vel_s >= p_vel_val)[0][0].astype(int)\n",
    "    return [c_pos_indx, c_vel_indx, p_ang_indx, p_vel_indx]"
   ]
  },
  {
   "cell_type": "code",
   "execution_count": 7,
   "metadata": {},
   "outputs": [],
   "source": [
    "def ndim_grid(start,stop, granularity):\n",
    "    # Set number of dimensions\n",
    "    ndims = len(start)\n",
    "\n",
    "    # List of ranges across all dimensions\n",
    "    L = [np.linspace(start[i],stop[i],granularity) for i in range(ndims)]\n",
    "\n",
    "    # Finally use meshgrid to form all combinations corresponding to all \n",
    "    # dimensions and stack them as M x ndims array\n",
    "    return np.hstack((np.meshgrid(*L))).swapaxes(0,1).reshape(ndims,-1).T"
   ]
  },
  {
   "cell_type": "code",
   "execution_count": 8,
   "metadata": {},
   "outputs": [
    {
     "name": "stdout",
     "output_type": "stream",
     "text": [
      "Number of NODES:  10\n",
      "Number of EPISODES per NODE 100\n"
     ]
    }
   ],
   "source": [
    "T_LR           = 1e-1\n",
    "T_GAMMA        = 0.9\n",
    "T_EPSILON      = 0.95\n",
    "\n",
    "NO_OF_NODES    = 10\n",
    "NO_OF_EPISODES = 100\n",
    "TIMESTEP_LIMIT = 200\n",
    "\n",
    "print(\"Number of NODES: \", NO_OF_NODES)\n",
    "print(\"Number of EPISODES per NODE\", NO_OF_EPISODES)"
   ]
  },
  {
   "cell_type": "code",
   "execution_count": 9,
   "metadata": {},
   "outputs": [],
   "source": [
    "# Hyper Parameters\n",
    "BATCH_SIZE          = 32\n",
    "NN_LR               = 1e-3  # learning rate\n",
    "NN_GAMMA            = 0.9   # reward discount\n",
    "TARGET_REPLACE_ITER = 100   # target update frequency\n",
    "TERMINAL_BIAS       = 0.8   # no. of terminal memories in batch\n",
    "MIN_MEMORY_CAP      = 20000"
   ]
  },
  {
   "cell_type": "code",
   "execution_count": 10,
   "metadata": {},
   "outputs": [],
   "source": [
    "MAX_NO_OF_ITERATIONS = 10\n",
    "NN_ITERATIONS    = 20000"
   ]
  },
  {
   "cell_type": "code",
   "execution_count": 11,
   "metadata": {},
   "outputs": [],
   "source": [
    "class Net(nn.Module):\n",
    "    def __init__(self, ):\n",
    "        super(Net, self).__init__()\n",
    "        self.fc1 = nn.Linear(N_STATES, 50)\n",
    "        nn.init.kaiming_uniform_(self.fc1.weight)   # initialization\n",
    "        self.out = nn.Linear(50, N_ACTIONS)\n",
    "        nn.init.xavier_uniform_(self.out.weight)   # initialization\n",
    "\n",
    "    def forward(self, x):\n",
    "        x = self.fc1(x)\n",
    "        x = F.relu(x)\n",
    "        actions_value = self.out(x)\n",
    "        return actions_value\n",
    "    \n",
    "class DQN(object):\n",
    "    def __init__(self):\n",
    "        self.eval_net, self.target_net = Net(), Net()\n",
    "#         print(\"Neural net\")\n",
    "#         print(self.eval_net)\n",
    "\n",
    "        self.learn_step_counter  = 0 # for target updating\n",
    "        \n",
    "        self.good_memory_counter = 0 # for storing non-terminal memories\n",
    "        self.good_memory         = np.zeros(N_STATES*2+2)#np.zeros((int(MEMORY_CAPACITY/2), N_STATES * 2 + 2)) # initialize memory\n",
    "        \n",
    "        self.bad_memory_counter  = 0 # for storing terminal memories\n",
    "        self.bad_memory          = np.zeros(N_STATES*2+2)#np.zeros((int(MEMORY_CAPACITY/2), N_STATES * 2 + 2)) # initialize memory\n",
    "        \n",
    "        self.optimizer           = torch.optim.Adam(self.eval_net.parameters(), lr=NN_LR)\n",
    "        self.loss_func           = nn.MSELoss()\n",
    "\n",
    "    def choose_action(self, x):\n",
    "        x = torch.unsqueeze(torch.FloatTensor(x), 0)\n",
    "        # input only one sample\n",
    "        if np.random.uniform() < EPSILON:   # greedy\n",
    "            actions_value = self.eval_net.forward(x)\n",
    "            action = torch.max(actions_value, 1)[1].data.numpy()\n",
    "            action = action[0] if ENV_A_SHAPE == 0 else action.reshape(ENV_A_SHAPE)  # return the argmax index\n",
    "        else:   # random\n",
    "            action = np.random.randint(0, N_ACTIONS)\n",
    "            action = action if ENV_A_SHAPE == 0 else action.reshape(ENV_A_SHAPE)\n",
    "        return action\n",
    "    \n",
    "    def choose_greedy_action(self, x):\n",
    "        x = torch.unsqueeze(torch.FloatTensor(x), 0)\n",
    "        # input only one sample\n",
    "        actions_value = self.eval_net.forward(x)\n",
    "        action = torch.max(actions_value, 1)[1].data.numpy()\n",
    "        action = action[0] if ENV_A_SHAPE == 0 else action.reshape(ENV_A_SHAPE)  # return the argmax index\n",
    "        return action\n",
    "\n",
    "    def get_qvals(self,x):\n",
    "        x = torch.unsqueeze(torch.FloatTensor(x), 0)\n",
    "        actions_value = self.eval_net.forward(x)\n",
    "        actions_value = actions_value.data.numpy()\n",
    "        return actions_value\n",
    "\n",
    "    def learn(self):\n",
    "        # target parameter update\n",
    "        if self.learn_step_counter % TARGET_REPLACE_ITER == 0:\n",
    "            self.target_net.load_state_dict(self.eval_net.state_dict())\n",
    "        self.learn_step_counter += 1\n",
    "\n",
    "        # sample batch transitions\n",
    "        good_sample_index = np.random.choice(int(self.good_memory.shape[0]), int(BATCH_SIZE-int(BATCH_SIZE*TERMINAL_BIAS)))\n",
    "        bad_sample_index  = np.random.choice(int(self.bad_memory.shape[0]),  int(BATCH_SIZE*TERMINAL_BIAS))\n",
    "\n",
    "        b_good_memory = self.good_memory[good_sample_index, :]\n",
    "        b_bad_memory  = self.bad_memory[bad_sample_index, :]\n",
    "        b_memory      = np.vstack((b_good_memory,b_bad_memory))\n",
    "        \n",
    "        b_s  = torch.FloatTensor(b_memory[:, :N_STATES])\n",
    "        b_a  = torch.LongTensor( b_memory[:, N_STATES:N_STATES+1].astype(int))\n",
    "        b_r  = torch.FloatTensor(b_memory[:, N_STATES+1:N_STATES+2])\n",
    "        b_s_ = torch.FloatTensor(b_memory[:, -N_STATES:])\n",
    "\n",
    "        # q_eval w.r.t the action in experience\n",
    "        q_eval   = self.eval_net(b_s).gather(1, b_a)  # shape (batch, 1)\n",
    "        q_next   = self.target_net(b_s_).detach()     # detach from graph, don't backpropagate\n",
    "        q_target = b_r + NN_GAMMA * q_next.max(1)[0].view(BATCH_SIZE, 1)   # shape (batch, 1)\n",
    "        loss     = self.loss_func(q_eval, q_target)\n",
    "\n",
    "        self.optimizer.zero_grad()\n",
    "        loss.backward()\n",
    "        self.optimizer.step()"
   ]
  },
  {
   "cell_type": "code",
   "execution_count": 12,
   "metadata": {},
   "outputs": [],
   "source": [
    "total_serial_timesteps   = 0\n",
    "total_parallel_timesteps = 0"
   ]
  },
  {
   "cell_type": "code",
   "execution_count": 13,
   "metadata": {},
   "outputs": [],
   "source": [
    "dqn = DQN()"
   ]
  },
  {
   "cell_type": "code",
   "execution_count": 14,
   "metadata": {},
   "outputs": [
    {
     "name": "stdout",
     "output_type": "stream",
     "text": [
      "SCRATCH FILE =  STI6WR1Zcombo100\n"
     ]
    }
   ],
   "source": [
    "RFILE = ''.join(random.choices(string.ascii_uppercase + string.digits, k=8))+\"combo\"+str(GRANULARITY)\n",
    "print(\"SCRATCH FILE = \", RFILE)"
   ]
  },
  {
   "cell_type": "code",
   "execution_count": 15,
   "metadata": {},
   "outputs": [],
   "source": [
    "@ray.remote\n",
    "def node_run(Q_TABLE):\n",
    "    time_rec                = np.zeros(NO_OF_EPISODES)\n",
    "    level_up_flag           = False\n",
    "    PERFECT_RUN_COUNTER     = 10\n",
    "    PERFECT_RUNS_HIGH_SCORE = 10\n",
    "    level_up_metric         = 195\n",
    "    \n",
    "    PERFECT_RUN  = 10\n",
    "    exp_rec      = np.empty(N_STATES * 2 + 2)\n",
    "    my_EPSILON   = T_EPSILON\n",
    "    my_LR        = T_LR\n",
    "    my_Q_TABLE   = Q_TABLE.copy()\n",
    "    \n",
    "    for i_episode in range(NO_OF_EPISODES):\n",
    "        ep_exp_rec = np.empty(N_STATES * 2 + 2)\n",
    "        time_steps = 0\n",
    "        \n",
    "        s = env.reset()\n",
    "        while True:\n",
    "            [c_pos_state, \n",
    "            c_vel_state, \n",
    "            p_ang_state, \n",
    "            p_vel_state] = discretize(s[0],s[1],s[2],s[3],\n",
    "                                     c_pos_s, \n",
    "                                     c_vel_s, \n",
    "                                     p_ang_s, \n",
    "                                     p_vel_s)\n",
    "            time_steps += 1\n",
    "            if np.random.uniform() > my_EPSILON:   # greedy\n",
    "                a = np.random.randint(0, N_ACTIONS)\n",
    "            else:\n",
    "                a = Q_TABLE[c_pos_state, c_vel_state, p_ang_state, p_vel_state, :].argmax()\n",
    "\n",
    "             # take action\n",
    "            s_, r, done, info = env.step(a)\n",
    "\n",
    "            if done:\n",
    "                r = -1\n",
    "                if time_steps >= TIMESTEP_LIMIT:\n",
    "                    r = 1\n",
    "\n",
    "            experience = np.hstack((s,a,r,s_))\n",
    "            exp_rec = np.vstack((exp_rec, experience))\n",
    "\n",
    "            #discretize next_state\n",
    "            [next_c_pos_state, \n",
    "            next_c_vel_state, \n",
    "            next_p_ang_state, \n",
    "            next_p_vel_state] = discretize(s_[0],    s_[1],    s_[2],    s_[3],\n",
    "                                          c_pos_s,  c_vel_s,  p_ang_s,  p_vel_s)\n",
    "\n",
    "            # learn\n",
    "            this_state = tuple([c_pos_state, \n",
    "                          c_vel_state, \n",
    "                          p_ang_state, \n",
    "                          p_vel_state])\n",
    "\n",
    "            next_state = tuple([ next_c_pos_state, \n",
    "                           next_c_vel_state, \n",
    "                           next_p_ang_state, \n",
    "                           next_p_vel_state])\n",
    "\n",
    "            my_Q_TABLE[this_state][a] = my_Q_TABLE[this_state][a] + my_LR * (r + T_GAMMA * my_Q_TABLE[next_state].max() - \n",
    "                                                                     my_Q_TABLE[this_state][a])\n",
    "            if done:\n",
    "                time_rec[i_episode] = time_steps\n",
    "                break\n",
    "            s = s_\n",
    "        \n",
    "        #TO LEVEL UP    \n",
    "        if np.mean(time_rec[-10:]) > level_up_metric:\n",
    "            PERFECT_RUN_COUNTER += 1\n",
    "        else:\n",
    "            PERFECT_RUN_COUNTER = 0\n",
    "\n",
    "        if PERFECT_RUN_COUNTER > PERFECT_RUNS_HIGH_SCORE:\n",
    "            PERFECT_RUN_COUNTER = 0\n",
    "            PERFECT_RUNS_HIGH_SCORE *= 1.5\n",
    "            my_LR *= 0.2\n",
    "            if my_EPSILON < 0.99:\n",
    "                my_EPSILON += 0.02\n",
    "    exp_rec = np.delete(exp_rec, 0, 0)\n",
    "    return exp_rec, time_rec"
   ]
  },
  {
   "cell_type": "code",
   "execution_count": 16,
   "metadata": {},
   "outputs": [],
   "source": [
    "@ray.remote\n",
    "def node_run_TEST(Q_TABLE):\n",
    "    # no learning\n",
    "    # only greedy actions\n",
    "    time_rec                = np.zeros(NO_OF_EPISODES)\n",
    "#     level_up_flag           = False\n",
    "#     PERFECT_RUN_COUNTER     = 10\n",
    "#     PERFECT_RUNS_HIGH_SCORE = 10\n",
    "#     level_up_metric         = 195\n",
    "    \n",
    "#     PERFECT_RUN  = 10\n",
    "#     exp_rec      = np.empty(N_STATES * 2 + 2)\n",
    "    my_EPSILON   = 1\n",
    "#     my_LR        = T_LR\n",
    "    my_Q_TABLE   = Q_TABLE.copy()\n",
    "    \n",
    "    for i_episode in range(NO_OF_EPISODES):\n",
    "#         ep_exp_rec = np.empty(N_STATES * 2 + 2)\n",
    "        time_steps = 0\n",
    "        \n",
    "        s = env.reset()\n",
    "        while True:\n",
    "            [c_pos_state, \n",
    "            c_vel_state, \n",
    "            p_ang_state, \n",
    "            p_vel_state] = discretize(s[0],s[1],s[2],s[3],\n",
    "                                     c_pos_s, \n",
    "                                     c_vel_s, \n",
    "                                     p_ang_s, \n",
    "                                     p_vel_s)\n",
    "            time_steps += 1\n",
    "            if np.random.uniform() > my_EPSILON:   # greedy\n",
    "                a = np.random.randint(0, N_ACTIONS)\n",
    "            else:\n",
    "                a = Q_TABLE[c_pos_state, c_vel_state, p_ang_state, p_vel_state, :].argmax()\n",
    "\n",
    "             # take action\n",
    "            s_, r, done, info = env.step(a)\n",
    "\n",
    "            if done:\n",
    "                r = -1\n",
    "                if time_steps >= TIMESTEP_LIMIT:\n",
    "                    r = 1\n",
    "\n",
    "#             experience = np.hstack((s,a,r,s_))\n",
    "#             exp_rec = np.vstack((exp_rec, experience))\n",
    "\n",
    "            #discretize next_state\n",
    "            [next_c_pos_state, \n",
    "            next_c_vel_state, \n",
    "            next_p_ang_state, \n",
    "            next_p_vel_state] = discretize(s_[0],    s_[1],    s_[2],    s_[3],\n",
    "                                          c_pos_s,  c_vel_s,  p_ang_s,  p_vel_s)\n",
    "\n",
    "#             # learn\n",
    "#             this_state = tuple([c_pos_state, \n",
    "#                           c_vel_state, \n",
    "#                           p_ang_state, \n",
    "#                           p_vel_state])\n",
    "\n",
    "#             next_state = tuple([ next_c_pos_state, \n",
    "#                            next_c_vel_state, \n",
    "#                            next_p_ang_state, \n",
    "#                            next_p_vel_state])\n",
    "\n",
    "#             my_Q_TABLE[this_state][a] = my_Q_TABLE[this_state][a] + my_LR * (r + T_GAMMA * my_Q_TABLE[next_state].max() - \n",
    "#                                                                      my_Q_TABLE[this_state][a])\n",
    "            if done:\n",
    "                time_rec[i_episode] = time_steps\n",
    "                break\n",
    "            s = s_\n",
    "        \n",
    "#         #TO LEVEL UP    \n",
    "#         if np.mean(time_rec[-10:]) > level_up_metric:\n",
    "#             PERFECT_RUN_COUNTER += 1\n",
    "#         else:\n",
    "#             PERFECT_RUN_COUNTER = 0\n",
    "\n",
    "#         if PERFECT_RUN_COUNTER > PERFECT_RUNS_HIGH_SCORE:\n",
    "#             PERFECT_RUN_COUNTER = 0\n",
    "#             PERFECT_RUNS_HIGH_SCORE *= 1.5\n",
    "#             my_LR *= 0.2\n",
    "#             if my_EPSILON < 0.99:\n",
    "#                 my_EPSILON += 0.02\n",
    "#     exp_rec = np.delete(exp_rec, 0, 0)\n",
    "    return time_rec"
   ]
  },
  {
   "cell_type": "code",
   "execution_count": 17,
   "metadata": {},
   "outputs": [
    {
     "name": "stdout",
     "output_type": "stream",
     "text": [
      "\n",
      "\n",
      "ITERATION # 0\n",
      "TABULAR EPSILON =  0.95\n",
      "TABULAR LR      =  0.1\n",
      "LARGEST TIMESTEP in ITERATION 0: 14\n",
      "REAL TIME TO GENERATE 9594.000000 EXPERIENCES:0:00:05.328409\n"
     ]
    },
    {
     "data": {
      "image/png": "[encoded data removed]",
      "text/plain": [
       "<Figure size 1080x216 with 1 Axes>"
      ]
     },
     "metadata": {},
     "output_type": "display_data"
    },
    {
     "name": "stdout",
     "output_type": "stream",
     "text": [
      "Training Neural Network for 20000 iterations @ LR =  0.001\n",
      "25 TERMINAL EXPERIENCES IN A BATCH SIZE OF 32\n",
      "Validating\tMEAN TIME:  9.41\n",
      "Validating\tMEAN TIME:  9.465\n",
      "Validating\tMEAN TIME:  9.36\n",
      "Validating\tMEAN TIME:  74.055\n",
      "Validating\tMEAN TIME:  99.055\n",
      "TRAINING TIME:0:00:27.069375\n"
     ]
    },
    {
     "data": {
      "image/png": "[encoded data removed]",
      "text/plain": [
       "<Figure size 1080x216 with 1 Axes>"
      ]
     },
     "metadata": {},
     "output_type": "display_data"
    },
    {
     "name": "stdout",
     "output_type": "stream",
     "text": [
      "DISCRETIZING THE Q-TABLE...\n",
      "CPU times: user 41.6 s, sys: 18.5 s, total: 1min\n",
      "Wall time: 21.5 s\n",
      "DISCRETIZING FINISHED\n",
      "\n",
      "\n",
      "ITERATION # 1\n",
      "TABULAR EPSILON =  0.95\n",
      "TABULAR LR      =  0.1\n",
      "LARGEST TIMESTEP in ITERATION 1: 200\n",
      "REAL TIME TO GENERATE 64209.000000 EXPERIENCES:0:00:03.140078\n"
     ]
    },
    {
     "data": {
      "image/png": "[encoded data removed]",
      "text/plain": [
       "<Figure size 1080x216 with 1 Axes>"
      ]
     },
     "metadata": {},
     "output_type": "display_data"
    },
    {
     "name": "stdout",
     "output_type": "stream",
     "text": [
      "Training Neural Network for 20000 iterations @ LR =  0.001\n",
      "25 TERMINAL EXPERIENCES IN A BATCH SIZE OF 32\n",
      "Validating\tMEAN TIME:  200.0\n",
      "Validating\tMEAN TIME:  200.0\n",
      "Validating\tMEAN TIME:  160.485\n",
      "Validating\tMEAN TIME:  196.615\n",
      "Validating\tMEAN TIME:  143.535\n",
      "TRAINING TIME:0:00:42.901750\n"
     ]
    },
    {
     "data": {
      "image/png": "[encoded data removed]",
      "text/plain": [
       "<Figure size 1080x216 with 1 Axes>"
      ]
     },
     "metadata": {},
     "output_type": "display_data"
    },
    {
     "name": "stdout",
     "output_type": "stream",
     "text": [
      "DISCRETIZING THE Q-TABLE...\n",
      "CPU times: user 41.9 s, sys: 17.9 s, total: 59.9 s\n",
      "Wall time: 20.7 s\n",
      "DISCRETIZING FINISHED\n",
      "\n",
      "\n",
      "ITERATION # 2\n",
      "TABULAR EPSILON =  0.95\n",
      "TABULAR LR      =  0.1\n",
      "LARGEST TIMESTEP in ITERATION 2: 200\n",
      "REAL TIME TO GENERATE 200000.000000 EXPERIENCES:0:00:13.359643\n"
     ]
    },
    {
     "data": {
      "image/png": "[encoded data removed]",
      "text/plain": [
       "<Figure size 1080x216 with 1 Axes>"
      ]
     },
     "metadata": {},
     "output_type": "display_data"
    },
    {
     "name": "stdout",
     "output_type": "stream",
     "text": [
      "Problem SOLVED after ITERATION#:  2\n"
     ]
    }
   ],
   "source": [
    "iteration = 0\n",
    "while iteration < MAX_NO_OF_ITERATIONS:\n",
    "    print(\"\\n\")\n",
    "    print(\"ITERATION #\", iteration)\n",
    "    print(\"TABULAR EPSILON = \", T_EPSILON)\n",
    "    print(\"TABULAR LR      = \", T_LR)\n",
    "\n",
    "    tic = datetime.now()\n",
    "    result = ray.get([node_run.remote(Q_TABLE) for i in range(NO_OF_NODES)])\n",
    "    node_time_rec = np.array([item[1] for item in result ])\n",
    "    node_exp = np.array([item[0] for item in result ])\n",
    "    all_exp = np.array([item for each_node_exp in node_exp \n",
    "                                for episode_exp in each_node_exp \n",
    "                                    for item in episode_exp]).reshape(-1,10)\n",
    "    total_parallel_timesteps += node_time_rec.max()\n",
    "    total_serial_timesteps   += node_time_rec.sum()\n",
    "    print(\"LARGEST TIMESTEP in ITERATION {:d}: {:d}\".format(iteration, node_time_rec.max().astype(int)))\n",
    "    print(\"REAL TIME TO GENERATE {:f} EXPERIENCES:{}\".format(node_time_rec.sum(), (datetime.now()-tic)))\n",
    "    #PLOT EXPERIENCES\n",
    "    node_avg_time = node_time_rec.mean(axis=1)\n",
    "    node_std_time = node_time_rec.std(axis=1)\n",
    "    node_max_time = node_time_rec.max(axis=1)\n",
    "    node_min_time = node_time_rec.min(axis=1)\n",
    "\n",
    "    fig = plt.figure(figsize = (15,3))\n",
    "    ax2 = fig.add_subplot(1, 1, 1)\n",
    "    ax2.set_title(\"Q-table Performance\")\n",
    "    ax2.bar(range(NO_OF_NODES) , node_max_time, alpha = 0.1, color = 'r', edgecolor = 'black', capsize=7 )\n",
    "    ax2.bar(range(NO_OF_NODES) , node_avg_time, alpha = 0.5, color = 'g', edgecolor = 'black', capsize=7 )\n",
    "    ax2.bar(range(NO_OF_NODES) , node_min_time, alpha = 0.4, color = 'r', edgecolor = 'black', capsize=7 )\n",
    "\n",
    "    ax2.plot(np.ones_like(node_avg_time)*200, 'g--')\n",
    "    ax2.set_ylabel('Mean Node Lifetime',color = 'g')\n",
    "    ax2.set_ylim(0,TIMESTEP_LIMIT+10)\n",
    "    fig.tight_layout()\n",
    "    ax2.grid()\n",
    "    plt.show()\n",
    "    \n",
    "    if node_min_time.min() > 195:\n",
    "        print(\"Problem SOLVED after ITERATION#: \",iteration)\n",
    "        break\n",
    "    \n",
    "    #shuffle experiences\n",
    "    np.random.shuffle(all_exp)\n",
    "\n",
    "    #segregate experiences\n",
    "    good_mem = all_exp[all_exp[:,5] == 1]\n",
    "    bad_mem  = all_exp[all_exp[:,5]  < 1]\n",
    "     \n",
    "    if good_mem.shape[0] < BATCH_SIZE:\n",
    "        dqn.good_memory = np.vstack((dqn.good_memory, good_mem))\n",
    "    else:\n",
    "        dqn.good_memory = good_mem\n",
    "        \n",
    "    if bad_mem.shape[0] < BATCH_SIZE:\n",
    "        dqn.bad_memory = np.vstack((dqn.bad_memory, bad_mem))\n",
    "    else:\n",
    "        dqn.bad_memory = bad_mem\n",
    "\n",
    "    #learn\n",
    "    print(\"Training Neural Network for\", NN_ITERATIONS, \"iterations\", \"@ LR = \", NN_LR)\n",
    "    print(int(BATCH_SIZE*TERMINAL_BIAS),\"TERMINAL EXPERIENCES IN A BATCH SIZE OF\",BATCH_SIZE)\n",
    "    tic=datetime.now()\n",
    "    nn_level_up_metric = 0\n",
    "    for nn_iter in range(NN_ITERATIONS):\n",
    "        dqn.learn()\n",
    "        #validate by running for TIMESTEP_LIMIT iterations\n",
    "        if(nn_iter%int(NN_ITERATIONS/5) == int(NN_ITERATIONS/5)-1):\n",
    "            print(\"Validating\", end='\\t')\n",
    "            time_rec = []\n",
    "            for i_episode in range(TIMESTEP_LIMIT):\n",
    "                time_step = 0\n",
    "                s = env.reset()\n",
    "                while True:\n",
    "                    time_step += 1 \n",
    "                    a = dqn.choose_greedy_action(s)\n",
    "                    s_, r, done, info = env.step(a)\n",
    "                    if done:\n",
    "                        break\n",
    "                    s = s_\n",
    "                time_rec = np.append(time_rec, time_step)\n",
    "            mean_time = time_rec.mean()\n",
    "            print(\"MEAN TIME: \", mean_time)\n",
    "            if mean_time >= nn_level_up_metric:\n",
    "                nn_level_up_metric = mean_time\n",
    "                torch.save(dqn.eval_net.state_dict(), RFILE +'_'+str(GRANULARITY))\n",
    "\n",
    "    print(\"TRAINING TIME:{}\".format(datetime.now()-tic))\n",
    "\n",
    "    best_dqn = DQN()\n",
    "    best_dqn.eval_net.load_state_dict(torch.load(RFILE +'_'+str(GRANULARITY)))\n",
    "    best_dqn.eval_net.eval()\n",
    "\n",
    "    #test NN policy\n",
    "    time_rec = []\n",
    "    for i_episode in range(TIMESTEP_LIMIT):\n",
    "        time_step = 0\n",
    "        s = env.reset()\n",
    "        while True:\n",
    "    #         env.render()\n",
    "            time_step += 1 \n",
    "            a = best_dqn.choose_greedy_action(s)\n",
    "            s_, r, done, info = env.step(a)\n",
    "            if done:\n",
    "                break\n",
    "            s = s_\n",
    "        time_rec = np.append(time_rec, time_step)\n",
    "\n",
    "    fig = plt.figure(figsize = (15,3))\n",
    "    ax2 = fig.add_subplot(1, 1, 1)\n",
    "    data = time_rec\n",
    "    ax2.plot(data, color = 'm')\n",
    "    ax2.plot(np.ones_like(data)*200, 'm--')\n",
    "    ax2.set_title('Neural Network Performance')\n",
    "    ax2.set_ylabel('Time Steps',color = 'm')\n",
    "    ax2.set_ylim(0,TIMESTEP_LIMIT+10)\n",
    "    fig.tight_layout()\n",
    "    ax2.grid()\n",
    "    plt.show()\n",
    "    \n",
    "    # Use the best model to create Q-table but allow the original model to continue learning from where it left off\n",
    "    print(\"DISCRETIZING THE Q-TABLE...\")\n",
    "    state_combinations = ndim_grid([C_POS_MIN, C_VEL_MIN, P_ANG_MIN, P_VEL_MIN],\n",
    "                                   [C_POS_MAX, C_VEL_MAX, P_ANG_MAX, P_VEL_MAX],\n",
    "                                       GRANULARITY)\n",
    "    %time Q_TABLE = best_dqn.get_qvals(state_combinations).reshape(GRANULARITY,GRANULARITY,GRANULARITY,GRANULARITY,-1)\n",
    "    print(\"DISCRETIZING FINISHED\")\n",
    "    \n",
    "    iteration+=1\n"
   ]
  },
  {
   "cell_type": "code",
   "execution_count": 18,
   "metadata": {},
   "outputs": [
    {
     "name": "stdout",
     "output_type": "stream",
     "text": [
      "TOTAL SERIAL TIMESTEPS   :  273803.0\n",
      "TOTAL PARALLEL TIMESTEPS :  414.0\n",
      "SPEED UP PERCENTAGE      :  661.3599033816425\n"
     ]
    }
   ],
   "source": [
    "print(\"TOTAL SERIAL TIMESTEPS   : \", total_serial_timesteps)\n",
    "print(\"TOTAL PARALLEL TIMESTEPS : \", total_parallel_timesteps)\n",
    "print(\"SPEED UP PERCENTAGE      : \", total_serial_timesteps/total_parallel_timesteps)"
   ]
  },
  {
   "cell_type": "code",
   "execution_count": 19,
   "metadata": {},
   "outputs": [
    {
     "data": {
      "image/png": "[encoded data removed]",
      "text/plain": [
       "<Figure size 1080x216 with 1 Axes>"
      ]
     },
     "metadata": {},
     "output_type": "display_data"
    }
   ],
   "source": [
    "result = ray.get([node_run_TEST.remote(Q_TABLE) for i in range(NO_OF_NODES)])\n",
    "node_time_rec = np.array([item for item in result ])\n",
    "\n",
    "# total_parallel_timesteps += node_time_rec.max()\n",
    "# total_serial_timesteps   += node_time_rec.sum()\n",
    "# print(\"LARGEST TIMESTEP in ITERATION {:d}: {:f}\".format(iteration, node_time_rec.max()))\n",
    "# print(\"REAL TIME TO GENERATE {:f} EXPERIENCES:{}\".format(node_time_rec.sum(), (datetime.now()-tic)))\n",
    "#PLOT EXPERIENCES\n",
    "node_avg_time = node_time_rec.mean(axis=1)\n",
    "node_std_time = node_time_rec.std(axis=1)\n",
    "node_max_time = node_time_rec.max(axis=1)\n",
    "node_min_time = node_time_rec.min(axis=1)\n",
    "\n",
    "fig = plt.figure(figsize = (15,3))\n",
    "ax2 = fig.add_subplot(1, 1, 1)\n",
    "ax2.set_title(\"Q-table Performance\")\n",
    "ax2.bar(range(NO_OF_NODES) , node_max_time, alpha = 0.1, color = 'r', edgecolor = 'black', capsize=7 )\n",
    "ax2.bar(range(NO_OF_NODES) , node_avg_time, alpha = 0.5, color = 'g', edgecolor = 'black', capsize=7 )\n",
    "ax2.bar(range(NO_OF_NODES) , node_min_time, alpha = 0.4, color = 'r', edgecolor = 'black', capsize=7 )\n",
    "\n",
    "ax2.plot(np.ones_like(node_avg_time)*200, 'g--')\n",
    "ax2.set_ylabel('Mean Node Lifetime',color = 'g')\n",
    "ax2.set_ylim(0,TIMESTEP_LIMIT+10)\n",
    "fig.tight_layout()\n",
    "ax2.grid()\n",
    "plt.show()"
   ]
  },
  {
   "cell_type": "code",
   "execution_count": null,
   "metadata": {},
   "outputs": [],
   "source": []
  }
 ],
 "metadata": {
  "kernelspec": {
   "display_name": "Python 3",
   "language": "python",
   "name": "python3"
  },
  "language_info": {
   "codemirror_mode": {
    "name": "ipython",
    "version": 3
   },
   "file_extension": ".py",
   "mimetype": "text/x-python",
   "name": "python",
   "nbconvert_exporter": "python",
   "pygments_lexer": "ipython3",
   "version": "3.6.3"
  }
 },
 "nbformat": 4,
 "nbformat_minor": 2
}
